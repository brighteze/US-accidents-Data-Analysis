{
  "nbformat": 4,
  "nbformat_minor": 0,
  "metadata": {
    "colab": {
      "name": "US Accidents Data EDA.ipynb",
      "provenance": [],
      "collapsed_sections": [],
      "toc_visible": true,
      "authorship_tag": "ABX9TyMgbs4hH5XOHd3Y40wpN6hY"
    },
    "kernelspec": {
      "name": "python3",
      "display_name": "Python 3"
    },
    "language_info": {
      "name": "python"
    }
  },
  "cells": [
    {
      "cell_type": "markdown",
      "metadata": {
        "id": "Jld_ZU7c2YNO"
      },
      "source": [
        "#Exploratory Data Analysis of the US Accidents Dataset\n",
        "\n",
        "---\n",
        "\n"
      ]
    },
    {
      "cell_type": "markdown",
      "metadata": {
        "id": "eoGcRFrs3wc3"
      },
      "source": [
        "I have done this using Google colab. However, I need to clarify something.\n",
        "\n",
        "Reading data into Google Colab is a bit different. You should first pip install opendatasets module, then import it.\n",
        "\n",
        "Once done. Get the URL link of the dataset from Kaggle itself & pass into a variable. Then use opendatasets to open the data. It will request your Kaggle credentials, type in your username & click enter, then it will ask you for a key, at this stage, you should have the key (in a JSON file) on your kaggle page. Open the file, copy the key & click enter, done."
      ]
    },
    {
      "cell_type": "markdown",
      "metadata": {
        "id": "bsevpFtK4wNf"
      },
      "source": [
        "\n",
        "#  We start by importing the relevant modules.\n",
        "\n",
        "\n",
        "\n",
        "---\n",
        "\n",
        "\n",
        "\n",
        "\n",
        "\n",
        "\n"
      ]
    },
    {
      "cell_type": "code",
      "metadata": {
        "id": "aursqyZV2XSf"
      },
      "source": [
        "import pandas as pd\n",
        "import numpy as np\n",
        "import math\n",
        "import seaborn as sns\n",
        "import matplotlib.pyplot as plt\n",
        "%matplotlib inline\n",
        "import os"
      ],
      "execution_count": 2,
      "outputs": []
    },
    {
      "cell_type": "code",
      "metadata": {
        "id": "irCGKTeNOdBo"
      },
      "source": [
        "pip install opendatasets --upgrade --quiet"
      ],
      "execution_count": 8,
      "outputs": []
    },
    {
      "cell_type": "code",
      "metadata": {
        "id": "NCUoLQ8aOlUA"
      },
      "source": [
        "import opendatasets as od"
      ],
      "execution_count": 9,
      "outputs": []
    },
    {
      "cell_type": "code",
      "metadata": {
        "colab": {
          "base_uri": "https://localhost:8080/"
        },
        "id": "-o_MouGEOqAX",
        "outputId": "3afc479c-8dfc-4961-c88c-5ba5b1b8ae80"
      },
      "source": [
        "download_url = 'https://www.kaggle.com/sobhanmoosavi/us-accidents'\n",
        "od.download(download_url)"
      ],
      "execution_count": 10,
      "outputs": [
        {
          "output_type": "stream",
          "name": "stdout",
          "text": [
            "Please provide your Kaggle credentials to download this dataset. Learn more: http://bit.ly/kaggle-creds\n",
            "Your Kaggle username: brightezeoha\n",
            "Your Kaggle Key: ··········\n",
            "Downloading us-accidents.zip to ./us-accidents\n"
          ]
        },
        {
          "output_type": "stream",
          "name": "stderr",
          "text": [
            "100%|██████████| 117M/117M [00:00<00:00, 166MB/s]\n"
          ]
        },
        {
          "output_type": "stream",
          "name": "stdout",
          "text": [
            "\n"
          ]
        }
      ]
    },
    {
      "cell_type": "code",
      "metadata": {
        "id": "I4qEsvPnPSwe"
      },
      "source": [
        "dataset = './us-accidents/US_Accidents_Dec20_updated.csv'"
      ],
      "execution_count": 11,
      "outputs": []
    },
    {
      "cell_type": "code",
      "metadata": {
        "id": "1n2B63sbLuH6"
      },
      "source": [
        "us_accidents = pd.read_csv(dataset)"
      ],
      "execution_count": 12,
      "outputs": []
    },
    {
      "cell_type": "code",
      "metadata": {
        "colab": {
          "base_uri": "https://localhost:8080/",
          "height": 434
        },
        "id": "-DvpK1nGPgy5",
        "outputId": "d959fbf8-2598-46ce-c13b-84ac635974e9"
      },
      "source": [
        "us_accidents.head()"
      ],
      "execution_count": 13,
      "outputs": [
        {
          "output_type": "execute_result",
          "data": {
            "text/html": [
              "<div>\n",
              "<style scoped>\n",
              "    .dataframe tbody tr th:only-of-type {\n",
              "        vertical-align: middle;\n",
              "    }\n",
              "\n",
              "    .dataframe tbody tr th {\n",
              "        vertical-align: top;\n",
              "    }\n",
              "\n",
              "    .dataframe thead th {\n",
              "        text-align: right;\n",
              "    }\n",
              "</style>\n",
              "<table border=\"1\" class=\"dataframe\">\n",
              "  <thead>\n",
              "    <tr style=\"text-align: right;\">\n",
              "      <th></th>\n",
              "      <th>ID</th>\n",
              "      <th>Severity</th>\n",
              "      <th>Start_Time</th>\n",
              "      <th>End_Time</th>\n",
              "      <th>Start_Lat</th>\n",
              "      <th>Start_Lng</th>\n",
              "      <th>End_Lat</th>\n",
              "      <th>End_Lng</th>\n",
              "      <th>Distance(mi)</th>\n",
              "      <th>Description</th>\n",
              "      <th>Number</th>\n",
              "      <th>Street</th>\n",
              "      <th>Side</th>\n",
              "      <th>City</th>\n",
              "      <th>County</th>\n",
              "      <th>State</th>\n",
              "      <th>Zipcode</th>\n",
              "      <th>Country</th>\n",
              "      <th>Timezone</th>\n",
              "      <th>Airport_Code</th>\n",
              "      <th>Weather_Timestamp</th>\n",
              "      <th>Temperature(F)</th>\n",
              "      <th>Wind_Chill(F)</th>\n",
              "      <th>Humidity(%)</th>\n",
              "      <th>Pressure(in)</th>\n",
              "      <th>Visibility(mi)</th>\n",
              "      <th>Wind_Direction</th>\n",
              "      <th>Wind_Speed(mph)</th>\n",
              "      <th>Precipitation(in)</th>\n",
              "      <th>Weather_Condition</th>\n",
              "      <th>Amenity</th>\n",
              "      <th>Bump</th>\n",
              "      <th>Crossing</th>\n",
              "      <th>Give_Way</th>\n",
              "      <th>Junction</th>\n",
              "      <th>No_Exit</th>\n",
              "      <th>Railway</th>\n",
              "      <th>Roundabout</th>\n",
              "      <th>Station</th>\n",
              "      <th>Stop</th>\n",
              "      <th>Traffic_Calming</th>\n",
              "      <th>Traffic_Signal</th>\n",
              "      <th>Turning_Loop</th>\n",
              "      <th>Sunrise_Sunset</th>\n",
              "      <th>Civil_Twilight</th>\n",
              "      <th>Nautical_Twilight</th>\n",
              "      <th>Astronomical_Twilight</th>\n",
              "    </tr>\n",
              "  </thead>\n",
              "  <tbody>\n",
              "    <tr>\n",
              "      <th>0</th>\n",
              "      <td>A-2716600</td>\n",
              "      <td>3</td>\n",
              "      <td>2016-02-08 00:37:08</td>\n",
              "      <td>2016-02-08 06:37:08</td>\n",
              "      <td>40.10891</td>\n",
              "      <td>-83.09286</td>\n",
              "      <td>40.11206</td>\n",
              "      <td>-83.03187</td>\n",
              "      <td>3.230</td>\n",
              "      <td>Between Sawmill Rd/Exit 20 and OH-315/Olentang...</td>\n",
              "      <td>NaN</td>\n",
              "      <td>Outerbelt E</td>\n",
              "      <td>R</td>\n",
              "      <td>Dublin</td>\n",
              "      <td>Franklin</td>\n",
              "      <td>OH</td>\n",
              "      <td>43017</td>\n",
              "      <td>US</td>\n",
              "      <td>US/Eastern</td>\n",
              "      <td>KOSU</td>\n",
              "      <td>2016-02-08 00:53:00</td>\n",
              "      <td>42.1</td>\n",
              "      <td>36.1</td>\n",
              "      <td>58.0</td>\n",
              "      <td>29.76</td>\n",
              "      <td>10.0</td>\n",
              "      <td>SW</td>\n",
              "      <td>10.4</td>\n",
              "      <td>0.00</td>\n",
              "      <td>Light Rain</td>\n",
              "      <td>False</td>\n",
              "      <td>False</td>\n",
              "      <td>False</td>\n",
              "      <td>False</td>\n",
              "      <td>False</td>\n",
              "      <td>False</td>\n",
              "      <td>False</td>\n",
              "      <td>False</td>\n",
              "      <td>False</td>\n",
              "      <td>False</td>\n",
              "      <td>False</td>\n",
              "      <td>False</td>\n",
              "      <td>False</td>\n",
              "      <td>Night</td>\n",
              "      <td>Night</td>\n",
              "      <td>Night</td>\n",
              "      <td>Night</td>\n",
              "    </tr>\n",
              "    <tr>\n",
              "      <th>1</th>\n",
              "      <td>A-2716601</td>\n",
              "      <td>2</td>\n",
              "      <td>2016-02-08 05:56:20</td>\n",
              "      <td>2016-02-08 11:56:20</td>\n",
              "      <td>39.86542</td>\n",
              "      <td>-84.06280</td>\n",
              "      <td>39.86501</td>\n",
              "      <td>-84.04873</td>\n",
              "      <td>0.747</td>\n",
              "      <td>At OH-4/OH-235/Exit 41 - Accident.</td>\n",
              "      <td>NaN</td>\n",
              "      <td>I-70 E</td>\n",
              "      <td>R</td>\n",
              "      <td>Dayton</td>\n",
              "      <td>Montgomery</td>\n",
              "      <td>OH</td>\n",
              "      <td>45424</td>\n",
              "      <td>US</td>\n",
              "      <td>US/Eastern</td>\n",
              "      <td>KFFO</td>\n",
              "      <td>2016-02-08 05:58:00</td>\n",
              "      <td>36.9</td>\n",
              "      <td>NaN</td>\n",
              "      <td>91.0</td>\n",
              "      <td>29.68</td>\n",
              "      <td>10.0</td>\n",
              "      <td>Calm</td>\n",
              "      <td>NaN</td>\n",
              "      <td>0.02</td>\n",
              "      <td>Light Rain</td>\n",
              "      <td>False</td>\n",
              "      <td>False</td>\n",
              "      <td>False</td>\n",
              "      <td>False</td>\n",
              "      <td>False</td>\n",
              "      <td>False</td>\n",
              "      <td>False</td>\n",
              "      <td>False</td>\n",
              "      <td>False</td>\n",
              "      <td>False</td>\n",
              "      <td>False</td>\n",
              "      <td>False</td>\n",
              "      <td>False</td>\n",
              "      <td>Night</td>\n",
              "      <td>Night</td>\n",
              "      <td>Night</td>\n",
              "      <td>Night</td>\n",
              "    </tr>\n",
              "    <tr>\n",
              "      <th>2</th>\n",
              "      <td>A-2716602</td>\n",
              "      <td>2</td>\n",
              "      <td>2016-02-08 06:15:39</td>\n",
              "      <td>2016-02-08 12:15:39</td>\n",
              "      <td>39.10266</td>\n",
              "      <td>-84.52468</td>\n",
              "      <td>39.10209</td>\n",
              "      <td>-84.52396</td>\n",
              "      <td>0.055</td>\n",
              "      <td>At I-71/US-50/Exit 1 - Accident.</td>\n",
              "      <td>NaN</td>\n",
              "      <td>I-75 S</td>\n",
              "      <td>R</td>\n",
              "      <td>Cincinnati</td>\n",
              "      <td>Hamilton</td>\n",
              "      <td>OH</td>\n",
              "      <td>45203</td>\n",
              "      <td>US</td>\n",
              "      <td>US/Eastern</td>\n",
              "      <td>KLUK</td>\n",
              "      <td>2016-02-08 05:53:00</td>\n",
              "      <td>36.0</td>\n",
              "      <td>NaN</td>\n",
              "      <td>97.0</td>\n",
              "      <td>29.70</td>\n",
              "      <td>10.0</td>\n",
              "      <td>Calm</td>\n",
              "      <td>NaN</td>\n",
              "      <td>0.02</td>\n",
              "      <td>Overcast</td>\n",
              "      <td>False</td>\n",
              "      <td>False</td>\n",
              "      <td>False</td>\n",
              "      <td>False</td>\n",
              "      <td>True</td>\n",
              "      <td>False</td>\n",
              "      <td>False</td>\n",
              "      <td>False</td>\n",
              "      <td>False</td>\n",
              "      <td>False</td>\n",
              "      <td>False</td>\n",
              "      <td>False</td>\n",
              "      <td>False</td>\n",
              "      <td>Night</td>\n",
              "      <td>Night</td>\n",
              "      <td>Night</td>\n",
              "      <td>Day</td>\n",
              "    </tr>\n",
              "    <tr>\n",
              "      <th>3</th>\n",
              "      <td>A-2716603</td>\n",
              "      <td>2</td>\n",
              "      <td>2016-02-08 06:15:39</td>\n",
              "      <td>2016-02-08 12:15:39</td>\n",
              "      <td>39.10148</td>\n",
              "      <td>-84.52341</td>\n",
              "      <td>39.09841</td>\n",
              "      <td>-84.52241</td>\n",
              "      <td>0.219</td>\n",
              "      <td>At I-71/US-50/Exit 1 - Accident.</td>\n",
              "      <td>NaN</td>\n",
              "      <td>US-50 E</td>\n",
              "      <td>R</td>\n",
              "      <td>Cincinnati</td>\n",
              "      <td>Hamilton</td>\n",
              "      <td>OH</td>\n",
              "      <td>45202</td>\n",
              "      <td>US</td>\n",
              "      <td>US/Eastern</td>\n",
              "      <td>KLUK</td>\n",
              "      <td>2016-02-08 05:53:00</td>\n",
              "      <td>36.0</td>\n",
              "      <td>NaN</td>\n",
              "      <td>97.0</td>\n",
              "      <td>29.70</td>\n",
              "      <td>10.0</td>\n",
              "      <td>Calm</td>\n",
              "      <td>NaN</td>\n",
              "      <td>0.02</td>\n",
              "      <td>Overcast</td>\n",
              "      <td>False</td>\n",
              "      <td>False</td>\n",
              "      <td>False</td>\n",
              "      <td>False</td>\n",
              "      <td>True</td>\n",
              "      <td>False</td>\n",
              "      <td>False</td>\n",
              "      <td>False</td>\n",
              "      <td>False</td>\n",
              "      <td>False</td>\n",
              "      <td>False</td>\n",
              "      <td>False</td>\n",
              "      <td>False</td>\n",
              "      <td>Night</td>\n",
              "      <td>Night</td>\n",
              "      <td>Night</td>\n",
              "      <td>Day</td>\n",
              "    </tr>\n",
              "    <tr>\n",
              "      <th>4</th>\n",
              "      <td>A-2716604</td>\n",
              "      <td>2</td>\n",
              "      <td>2016-02-08 06:51:45</td>\n",
              "      <td>2016-02-08 12:51:45</td>\n",
              "      <td>41.06213</td>\n",
              "      <td>-81.53784</td>\n",
              "      <td>41.06217</td>\n",
              "      <td>-81.53547</td>\n",
              "      <td>0.123</td>\n",
              "      <td>At Dart Ave/Exit 21 - Accident.</td>\n",
              "      <td>NaN</td>\n",
              "      <td>I-77 N</td>\n",
              "      <td>R</td>\n",
              "      <td>Akron</td>\n",
              "      <td>Summit</td>\n",
              "      <td>OH</td>\n",
              "      <td>44311</td>\n",
              "      <td>US</td>\n",
              "      <td>US/Eastern</td>\n",
              "      <td>KAKR</td>\n",
              "      <td>2016-02-08 06:54:00</td>\n",
              "      <td>39.0</td>\n",
              "      <td>NaN</td>\n",
              "      <td>55.0</td>\n",
              "      <td>29.65</td>\n",
              "      <td>10.0</td>\n",
              "      <td>Calm</td>\n",
              "      <td>NaN</td>\n",
              "      <td>NaN</td>\n",
              "      <td>Overcast</td>\n",
              "      <td>False</td>\n",
              "      <td>False</td>\n",
              "      <td>False</td>\n",
              "      <td>False</td>\n",
              "      <td>False</td>\n",
              "      <td>False</td>\n",
              "      <td>False</td>\n",
              "      <td>False</td>\n",
              "      <td>False</td>\n",
              "      <td>False</td>\n",
              "      <td>False</td>\n",
              "      <td>False</td>\n",
              "      <td>False</td>\n",
              "      <td>Night</td>\n",
              "      <td>Night</td>\n",
              "      <td>Day</td>\n",
              "      <td>Day</td>\n",
              "    </tr>\n",
              "  </tbody>\n",
              "</table>\n",
              "</div>"
            ],
            "text/plain": [
              "          ID  Severity  ... Nautical_Twilight Astronomical_Twilight\n",
              "0  A-2716600         3  ...             Night                 Night\n",
              "1  A-2716601         2  ...             Night                 Night\n",
              "2  A-2716602         2  ...             Night                   Day\n",
              "3  A-2716603         2  ...             Night                   Day\n",
              "4  A-2716604         2  ...               Day                   Day\n",
              "\n",
              "[5 rows x 47 columns]"
            ]
          },
          "metadata": {},
          "execution_count": 13
        }
      ]
    },
    {
      "cell_type": "code",
      "metadata": {
        "colab": {
          "base_uri": "https://localhost:8080/"
        },
        "id": "lG8bgqjxRQL4",
        "outputId": "dfcd445e-2652-401d-cf28-36fc29e92148"
      },
      "source": [
        "us_accidents.shape"
      ],
      "execution_count": 14,
      "outputs": [
        {
          "output_type": "execute_result",
          "data": {
            "text/plain": [
              "(1516064, 47)"
            ]
          },
          "metadata": {},
          "execution_count": 14
        }
      ]
    },
    {
      "cell_type": "code",
      "metadata": {
        "colab": {
          "base_uri": "https://localhost:8080/"
        },
        "id": "ZzP2hiCPRrwQ",
        "outputId": "28f1537a-f488-4436-8dd6-d17a411312b4"
      },
      "source": [
        "us_accidents.columns"
      ],
      "execution_count": 15,
      "outputs": [
        {
          "output_type": "execute_result",
          "data": {
            "text/plain": [
              "Index(['ID', 'Severity', 'Start_Time', 'End_Time', 'Start_Lat', 'Start_Lng',\n",
              "       'End_Lat', 'End_Lng', 'Distance(mi)', 'Description', 'Number', 'Street',\n",
              "       'Side', 'City', 'County', 'State', 'Zipcode', 'Country', 'Timezone',\n",
              "       'Airport_Code', 'Weather_Timestamp', 'Temperature(F)', 'Wind_Chill(F)',\n",
              "       'Humidity(%)', 'Pressure(in)', 'Visibility(mi)', 'Wind_Direction',\n",
              "       'Wind_Speed(mph)', 'Precipitation(in)', 'Weather_Condition', 'Amenity',\n",
              "       'Bump', 'Crossing', 'Give_Way', 'Junction', 'No_Exit', 'Railway',\n",
              "       'Roundabout', 'Station', 'Stop', 'Traffic_Calming', 'Traffic_Signal',\n",
              "       'Turning_Loop', 'Sunrise_Sunset', 'Civil_Twilight', 'Nautical_Twilight',\n",
              "       'Astronomical_Twilight'],\n",
              "      dtype='object')"
            ]
          },
          "metadata": {},
          "execution_count": 15
        }
      ]
    },
    {
      "cell_type": "markdown",
      "metadata": {
        "id": "ecezxS0fWzGl"
      },
      "source": [
        "## Data Cleaning & Preparation"
      ]
    },
    {
      "cell_type": "code",
      "metadata": {
        "colab": {
          "base_uri": "https://localhost:8080/",
          "height": 320
        },
        "id": "ucfaqgCDWuom",
        "outputId": "41bd6814-f9b2-45a5-b9a0-dc00a7c55413"
      },
      "source": [
        "# let's view summary statistics for columns with numeric data\n",
        "us_accidents.describe()"
      ],
      "execution_count": 16,
      "outputs": [
        {
          "output_type": "execute_result",
          "data": {
            "text/html": [
              "<div>\n",
              "<style scoped>\n",
              "    .dataframe tbody tr th:only-of-type {\n",
              "        vertical-align: middle;\n",
              "    }\n",
              "\n",
              "    .dataframe tbody tr th {\n",
              "        vertical-align: top;\n",
              "    }\n",
              "\n",
              "    .dataframe thead th {\n",
              "        text-align: right;\n",
              "    }\n",
              "</style>\n",
              "<table border=\"1\" class=\"dataframe\">\n",
              "  <thead>\n",
              "    <tr style=\"text-align: right;\">\n",
              "      <th></th>\n",
              "      <th>Severity</th>\n",
              "      <th>Start_Lat</th>\n",
              "      <th>Start_Lng</th>\n",
              "      <th>End_Lat</th>\n",
              "      <th>End_Lng</th>\n",
              "      <th>Distance(mi)</th>\n",
              "      <th>Number</th>\n",
              "      <th>Temperature(F)</th>\n",
              "      <th>Wind_Chill(F)</th>\n",
              "      <th>Humidity(%)</th>\n",
              "      <th>Pressure(in)</th>\n",
              "      <th>Visibility(mi)</th>\n",
              "      <th>Wind_Speed(mph)</th>\n",
              "      <th>Precipitation(in)</th>\n",
              "    </tr>\n",
              "  </thead>\n",
              "  <tbody>\n",
              "    <tr>\n",
              "      <th>count</th>\n",
              "      <td>1.516064e+06</td>\n",
              "      <td>1.516064e+06</td>\n",
              "      <td>1.516064e+06</td>\n",
              "      <td>1.516064e+06</td>\n",
              "      <td>1.516064e+06</td>\n",
              "      <td>1.516064e+06</td>\n",
              "      <td>4.699690e+05</td>\n",
              "      <td>1.473031e+06</td>\n",
              "      <td>1.066748e+06</td>\n",
              "      <td>1.470555e+06</td>\n",
              "      <td>1.479790e+06</td>\n",
              "      <td>1.471853e+06</td>\n",
              "      <td>1.387202e+06</td>\n",
              "      <td>1.005515e+06</td>\n",
              "    </tr>\n",
              "    <tr>\n",
              "      <th>mean</th>\n",
              "      <td>2.238630e+00</td>\n",
              "      <td>3.690056e+01</td>\n",
              "      <td>-9.859919e+01</td>\n",
              "      <td>3.690061e+01</td>\n",
              "      <td>-9.859901e+01</td>\n",
              "      <td>5.872617e-01</td>\n",
              "      <td>8.907533e+03</td>\n",
              "      <td>5.958460e+01</td>\n",
              "      <td>5.510976e+01</td>\n",
              "      <td>6.465960e+01</td>\n",
              "      <td>2.955495e+01</td>\n",
              "      <td>9.131755e+00</td>\n",
              "      <td>7.630812e+00</td>\n",
              "      <td>8.477855e-03</td>\n",
              "    </tr>\n",
              "    <tr>\n",
              "      <th>std</th>\n",
              "      <td>6.081481e-01</td>\n",
              "      <td>5.165653e+00</td>\n",
              "      <td>1.849602e+01</td>\n",
              "      <td>5.165629e+00</td>\n",
              "      <td>1.849590e+01</td>\n",
              "      <td>1.632659e+00</td>\n",
              "      <td>2.242190e+04</td>\n",
              "      <td>1.827316e+01</td>\n",
              "      <td>2.112735e+01</td>\n",
              "      <td>2.325986e+01</td>\n",
              "      <td>1.016756e+00</td>\n",
              "      <td>2.889112e+00</td>\n",
              "      <td>5.637364e+00</td>\n",
              "      <td>1.293168e-01</td>\n",
              "    </tr>\n",
              "    <tr>\n",
              "      <th>min</th>\n",
              "      <td>1.000000e+00</td>\n",
              "      <td>2.457022e+01</td>\n",
              "      <td>-1.244976e+02</td>\n",
              "      <td>2.457011e+01</td>\n",
              "      <td>-1.244978e+02</td>\n",
              "      <td>0.000000e+00</td>\n",
              "      <td>0.000000e+00</td>\n",
              "      <td>-8.900000e+01</td>\n",
              "      <td>-8.900000e+01</td>\n",
              "      <td>1.000000e+00</td>\n",
              "      <td>0.000000e+00</td>\n",
              "      <td>0.000000e+00</td>\n",
              "      <td>0.000000e+00</td>\n",
              "      <td>0.000000e+00</td>\n",
              "    </tr>\n",
              "    <tr>\n",
              "      <th>25%</th>\n",
              "      <td>2.000000e+00</td>\n",
              "      <td>3.385422e+01</td>\n",
              "      <td>-1.182076e+02</td>\n",
              "      <td>3.385420e+01</td>\n",
              "      <td>-1.182077e+02</td>\n",
              "      <td>0.000000e+00</td>\n",
              "      <td>1.212000e+03</td>\n",
              "      <td>4.700000e+01</td>\n",
              "      <td>4.080000e+01</td>\n",
              "      <td>4.800000e+01</td>\n",
              "      <td>2.944000e+01</td>\n",
              "      <td>1.000000e+01</td>\n",
              "      <td>4.600000e+00</td>\n",
              "      <td>0.000000e+00</td>\n",
              "    </tr>\n",
              "    <tr>\n",
              "      <th>50%</th>\n",
              "      <td>2.000000e+00</td>\n",
              "      <td>3.735113e+01</td>\n",
              "      <td>-9.438100e+01</td>\n",
              "      <td>3.735134e+01</td>\n",
              "      <td>-9.437987e+01</td>\n",
              "      <td>1.780000e-01</td>\n",
              "      <td>4.000000e+03</td>\n",
              "      <td>6.100000e+01</td>\n",
              "      <td>5.700000e+01</td>\n",
              "      <td>6.800000e+01</td>\n",
              "      <td>2.988000e+01</td>\n",
              "      <td>1.000000e+01</td>\n",
              "      <td>7.000000e+00</td>\n",
              "      <td>0.000000e+00</td>\n",
              "    </tr>\n",
              "    <tr>\n",
              "      <th>75%</th>\n",
              "      <td>2.000000e+00</td>\n",
              "      <td>4.072593e+01</td>\n",
              "      <td>-8.087469e+01</td>\n",
              "      <td>4.072593e+01</td>\n",
              "      <td>-8.087449e+01</td>\n",
              "      <td>5.940000e-01</td>\n",
              "      <td>1.010000e+04</td>\n",
              "      <td>7.300000e+01</td>\n",
              "      <td>7.100000e+01</td>\n",
              "      <td>8.400000e+01</td>\n",
              "      <td>3.004000e+01</td>\n",
              "      <td>1.000000e+01</td>\n",
              "      <td>1.040000e+01</td>\n",
              "      <td>0.000000e+00</td>\n",
              "    </tr>\n",
              "    <tr>\n",
              "      <th>max</th>\n",
              "      <td>4.000000e+00</td>\n",
              "      <td>4.900058e+01</td>\n",
              "      <td>-6.711317e+01</td>\n",
              "      <td>4.907500e+01</td>\n",
              "      <td>-6.710924e+01</td>\n",
              "      <td>1.551860e+02</td>\n",
              "      <td>9.999997e+06</td>\n",
              "      <td>1.706000e+02</td>\n",
              "      <td>1.130000e+02</td>\n",
              "      <td>1.000000e+02</td>\n",
              "      <td>5.804000e+01</td>\n",
              "      <td>1.400000e+02</td>\n",
              "      <td>9.840000e+02</td>\n",
              "      <td>2.400000e+01</td>\n",
              "    </tr>\n",
              "  </tbody>\n",
              "</table>\n",
              "</div>"
            ],
            "text/plain": [
              "           Severity     Start_Lat  ...  Wind_Speed(mph)  Precipitation(in)\n",
              "count  1.516064e+06  1.516064e+06  ...     1.387202e+06       1.005515e+06\n",
              "mean   2.238630e+00  3.690056e+01  ...     7.630812e+00       8.477855e-03\n",
              "std    6.081481e-01  5.165653e+00  ...     5.637364e+00       1.293168e-01\n",
              "min    1.000000e+00  2.457022e+01  ...     0.000000e+00       0.000000e+00\n",
              "25%    2.000000e+00  3.385422e+01  ...     4.600000e+00       0.000000e+00\n",
              "50%    2.000000e+00  3.735113e+01  ...     7.000000e+00       0.000000e+00\n",
              "75%    2.000000e+00  4.072593e+01  ...     1.040000e+01       0.000000e+00\n",
              "max    4.000000e+00  4.900058e+01  ...     9.840000e+02       2.400000e+01\n",
              "\n",
              "[8 rows x 14 columns]"
            ]
          },
          "metadata": {},
          "execution_count": 16
        }
      ]
    },
    {
      "cell_type": "code",
      "metadata": {
        "colab": {
          "base_uri": "https://localhost:8080/"
        },
        "id": "0UgHb77d4XpN",
        "outputId": "38b6490f-49a7-4246-d227-74a2d06897fa"
      },
      "source": [
        "us_accidents.isna().sum()"
      ],
      "execution_count": 17,
      "outputs": [
        {
          "output_type": "execute_result",
          "data": {
            "text/plain": [
              "ID                             0\n",
              "Severity                       0\n",
              "Start_Time                     0\n",
              "End_Time                       0\n",
              "Start_Lat                      0\n",
              "Start_Lng                      0\n",
              "End_Lat                        0\n",
              "End_Lng                        0\n",
              "Distance(mi)                   0\n",
              "Description                    0\n",
              "Number                   1046095\n",
              "Street                         0\n",
              "Side                           0\n",
              "City                          83\n",
              "County                         0\n",
              "State                          0\n",
              "Zipcode                      935\n",
              "Country                        0\n",
              "Timezone                    2302\n",
              "Airport_Code                4248\n",
              "Weather_Timestamp          30264\n",
              "Temperature(F)             43033\n",
              "Wind_Chill(F)             449316\n",
              "Humidity(%)                45509\n",
              "Pressure(in)               36274\n",
              "Visibility(mi)             44211\n",
              "Wind_Direction             41858\n",
              "Wind_Speed(mph)           128862\n",
              "Precipitation(in)         510549\n",
              "Weather_Condition          44007\n",
              "Amenity                        0\n",
              "Bump                           0\n",
              "Crossing                       0\n",
              "Give_Way                       0\n",
              "Junction                       0\n",
              "No_Exit                        0\n",
              "Railway                        0\n",
              "Roundabout                     0\n",
              "Station                        0\n",
              "Stop                           0\n",
              "Traffic_Calming                0\n",
              "Traffic_Signal                 0\n",
              "Turning_Loop                   0\n",
              "Sunrise_Sunset                83\n",
              "Civil_Twilight                83\n",
              "Nautical_Twilight             83\n",
              "Astronomical_Twilight         83\n",
              "dtype: int64"
            ]
          },
          "metadata": {},
          "execution_count": 17
        }
      ]
    },
    {
      "cell_type": "code",
      "metadata": {
        "colab": {
          "base_uri": "https://localhost:8080/",
          "height": 644
        },
        "id": "sEJuA10I_B26",
        "outputId": "78f7c458-3392-451e-921b-a41be1e8cacf"
      },
      "source": [
        "missing_data = us_accidents.isna().sum(axis=0).sort_values(ascending=True)\n",
        "missing_data = missing_data.to_frame()\n",
        "missing_data.columns = ['missing_count']\n",
        "missing_data = missing_data.loc[missing_data['missing_count']>0]\n",
        "\n",
        "missing_data"
      ],
      "execution_count": 18,
      "outputs": [
        {
          "output_type": "execute_result",
          "data": {
            "text/html": [
              "<div>\n",
              "<style scoped>\n",
              "    .dataframe tbody tr th:only-of-type {\n",
              "        vertical-align: middle;\n",
              "    }\n",
              "\n",
              "    .dataframe tbody tr th {\n",
              "        vertical-align: top;\n",
              "    }\n",
              "\n",
              "    .dataframe thead th {\n",
              "        text-align: right;\n",
              "    }\n",
              "</style>\n",
              "<table border=\"1\" class=\"dataframe\">\n",
              "  <thead>\n",
              "    <tr style=\"text-align: right;\">\n",
              "      <th></th>\n",
              "      <th>missing_count</th>\n",
              "    </tr>\n",
              "  </thead>\n",
              "  <tbody>\n",
              "    <tr>\n",
              "      <th>Sunrise_Sunset</th>\n",
              "      <td>83</td>\n",
              "    </tr>\n",
              "    <tr>\n",
              "      <th>Civil_Twilight</th>\n",
              "      <td>83</td>\n",
              "    </tr>\n",
              "    <tr>\n",
              "      <th>Astronomical_Twilight</th>\n",
              "      <td>83</td>\n",
              "    </tr>\n",
              "    <tr>\n",
              "      <th>Nautical_Twilight</th>\n",
              "      <td>83</td>\n",
              "    </tr>\n",
              "    <tr>\n",
              "      <th>City</th>\n",
              "      <td>83</td>\n",
              "    </tr>\n",
              "    <tr>\n",
              "      <th>Zipcode</th>\n",
              "      <td>935</td>\n",
              "    </tr>\n",
              "    <tr>\n",
              "      <th>Timezone</th>\n",
              "      <td>2302</td>\n",
              "    </tr>\n",
              "    <tr>\n",
              "      <th>Airport_Code</th>\n",
              "      <td>4248</td>\n",
              "    </tr>\n",
              "    <tr>\n",
              "      <th>Weather_Timestamp</th>\n",
              "      <td>30264</td>\n",
              "    </tr>\n",
              "    <tr>\n",
              "      <th>Pressure(in)</th>\n",
              "      <td>36274</td>\n",
              "    </tr>\n",
              "    <tr>\n",
              "      <th>Wind_Direction</th>\n",
              "      <td>41858</td>\n",
              "    </tr>\n",
              "    <tr>\n",
              "      <th>Temperature(F)</th>\n",
              "      <td>43033</td>\n",
              "    </tr>\n",
              "    <tr>\n",
              "      <th>Weather_Condition</th>\n",
              "      <td>44007</td>\n",
              "    </tr>\n",
              "    <tr>\n",
              "      <th>Visibility(mi)</th>\n",
              "      <td>44211</td>\n",
              "    </tr>\n",
              "    <tr>\n",
              "      <th>Humidity(%)</th>\n",
              "      <td>45509</td>\n",
              "    </tr>\n",
              "    <tr>\n",
              "      <th>Wind_Speed(mph)</th>\n",
              "      <td>128862</td>\n",
              "    </tr>\n",
              "    <tr>\n",
              "      <th>Wind_Chill(F)</th>\n",
              "      <td>449316</td>\n",
              "    </tr>\n",
              "    <tr>\n",
              "      <th>Precipitation(in)</th>\n",
              "      <td>510549</td>\n",
              "    </tr>\n",
              "    <tr>\n",
              "      <th>Number</th>\n",
              "      <td>1046095</td>\n",
              "    </tr>\n",
              "  </tbody>\n",
              "</table>\n",
              "</div>"
            ],
            "text/plain": [
              "                       missing_count\n",
              "Sunrise_Sunset                    83\n",
              "Civil_Twilight                    83\n",
              "Astronomical_Twilight             83\n",
              "Nautical_Twilight                 83\n",
              "City                              83\n",
              "Zipcode                          935\n",
              "Timezone                        2302\n",
              "Airport_Code                    4248\n",
              "Weather_Timestamp              30264\n",
              "Pressure(in)                   36274\n",
              "Wind_Direction                 41858\n",
              "Temperature(F)                 43033\n",
              "Weather_Condition              44007\n",
              "Visibility(mi)                 44211\n",
              "Humidity(%)                    45509\n",
              "Wind_Speed(mph)               128862\n",
              "Wind_Chill(F)                 449316\n",
              "Precipitation(in)             510549\n",
              "Number                       1046095"
            ]
          },
          "metadata": {},
          "execution_count": 18
        }
      ]
    },
    {
      "cell_type": "code",
      "metadata": {
        "id": "l2pJ_wFgCodJ",
        "colab": {
          "base_uri": "https://localhost:8080/"
        },
        "outputId": "9bc15d81-4bae-467b-880a-ab07f8a892e6"
      },
      "source": [
        "cities = us_accidents['City'].unique()\n",
        "len(cities)"
      ],
      "execution_count": 19,
      "outputs": [
        {
          "output_type": "execute_result",
          "data": {
            "text/plain": [
              "10658"
            ]
          },
          "metadata": {},
          "execution_count": 19
        }
      ]
    },
    {
      "cell_type": "code",
      "metadata": {
        "colab": {
          "base_uri": "https://localhost:8080/"
        },
        "id": "JVozCcV4QSB_",
        "outputId": "f0bcec2f-69ff-4867-9366-b3d639adf4b4"
      },
      "source": [
        "# All cities by number of accidents\n",
        "\n",
        "accidents_by_cities = us_accidents['City'].value_counts()\n",
        "accidents_by_cities"
      ],
      "execution_count": 20,
      "outputs": [
        {
          "output_type": "execute_result",
          "data": {
            "text/plain": [
              "Los Angeles           39984\n",
              "Miami                 36233\n",
              "Charlotte             22203\n",
              "Houston               20843\n",
              "Dallas                19497\n",
              "                      ...  \n",
              "University Heights        1\n",
              "Addy                      1\n",
              "Carbon                    1\n",
              "Marmarth                  1\n",
              "Panacea                   1\n",
              "Name: City, Length: 10657, dtype: int64"
            ]
          },
          "metadata": {},
          "execution_count": 20
        }
      ]
    },
    {
      "cell_type": "code",
      "metadata": {
        "colab": {
          "base_uri": "https://localhost:8080/"
        },
        "id": "FF5hRZBCUo88",
        "outputId": "e03ba1f9-04ee-410c-b5f5-b4383186de64"
      },
      "source": [
        "#Top 10 cities by number of accidents\n",
        "\n",
        "accidents_by_cities[:10]"
      ],
      "execution_count": 21,
      "outputs": [
        {
          "output_type": "execute_result",
          "data": {
            "text/plain": [
              "Los Angeles    39984\n",
              "Miami          36233\n",
              "Charlotte      22203\n",
              "Houston        20843\n",
              "Dallas         19497\n",
              "Sacramento     18431\n",
              "Orlando        16169\n",
              "Portland       14805\n",
              "San Diego      14090\n",
              "Minneapolis    12653\n",
              "Name: City, dtype: int64"
            ]
          },
          "metadata": {},
          "execution_count": 21
        }
      ]
    },
    {
      "cell_type": "code",
      "metadata": {
        "colab": {
          "base_uri": "https://localhost:8080/",
          "height": 400
        },
        "id": "LiyCCeb9XAkY",
        "outputId": "bb40d677-bd7a-4c6a-993f-591aee16db6a"
      },
      "source": [
        "#Bar Chart to Visualize Top 10 cities by number of accidents\n",
        "\n",
        "fig, ax = plt.subplots(figsize=(8,5))\n",
        "accidents_by_cities[:10].plot(kind='bar')\n",
        "ax.set(title = 'Top 10 cities By Number of Accidents',\n",
        "       xlabel = 'Cities',\n",
        "       ylabel = 'Accidents Count')\n",
        "plt.show()"
      ],
      "execution_count": 22,
      "outputs": [
        {
          "output_type": "display_data",
          "data": {
            "image/png": "[encoded data removed]",
            "text/plain": [
              "<Figure size 576x360 with 1 Axes>"
            ]
          },
          "metadata": {
            "needs_background": "light"
          }
        }
      ]
    },
    {
      "cell_type": "code",
      "metadata": {
        "colab": {
          "base_uri": "https://localhost:8080/"
        },
        "id": "Gc5sf6pzXGaK",
        "outputId": "43d82698-4635-4170-9285-4b32c65ada63"
      },
      "source": [
        "'New York' in us_accidents['City']"
      ],
      "execution_count": 23,
      "outputs": [
        {
          "output_type": "execute_result",
          "data": {
            "text/plain": [
              "False"
            ]
          },
          "metadata": {},
          "execution_count": 23
        }
      ]
    },
    {
      "cell_type": "code",
      "metadata": {
        "colab": {
          "base_uri": "https://localhost:8080/",
          "height": 368
        },
        "id": "emSHbzqjhULn",
        "outputId": "80337a3b-c061-4bf8-c906-d22ad21310b5"
      },
      "source": [
        "# Let's see how the accidents by cities is distributed\n",
        "\n",
        "fig, axs = plt.subplots(1, 1,\n",
        "                        figsize =(8, 5),\n",
        "                        tight_layout = True)\n",
        "accidents_by_cities.hist(bins=100)\n",
        "\n",
        "plt.xlabel(\"X-axis\")\n",
        "plt.ylabel(\"y-axis\")\n",
        "plt.title('Accidents Count Distribution')\n",
        "\n",
        "plt.show()"
      ],
      "execution_count": 24,
      "outputs": [
        {
          "output_type": "display_data",
          "data": {
            "image/png": "[encoded data removed]",
            "text/plain": [
              "<Figure size 576x360 with 1 Axes>"
            ]
          },
          "metadata": {
            "needs_background": "light"
          }
        }
      ]
    },
    {
      "cell_type": "markdown",
      "metadata": {
        "id": "c1iUvjmVskZe"
      },
      "source": [
        "We can see that majority of the cities have less than 5000 accidents, most cities accidents count is closer to 1000"
      ]
    },
    {
      "cell_type": "code",
      "metadata": {
        "id": "8-XhrL2OstBr"
      },
      "source": [
        "# Let's group the data by high and low\n",
        "\n",
        "high_accident_cities = accidents_by_cities = accidents_by_cities[accidents_by_cities>=1000]\n",
        "low_accident_cities = accidents_by_cities = accidents_by_cities[accidents_by_cities<1000]"
      ],
      "execution_count": 25,
      "outputs": []
    },
    {
      "cell_type": "code",
      "metadata": {
        "colab": {
          "base_uri": "https://localhost:8080/"
        },
        "id": "8c4l2DleuXqF",
        "outputId": "84fc65ad-e794-44c9-ceb6-e5fcb48c6a70"
      },
      "source": [
        "# Let's find percentages\n",
        "\n",
        "len(high_accident_cities)/len(cities)"
      ],
      "execution_count": 26,
      "outputs": [
        {
          "output_type": "execute_result",
          "data": {
            "text/plain": [
              "0.023550384687558643"
            ]
          },
          "metadata": {},
          "execution_count": 26
        }
      ]
    },
    {
      "cell_type": "code",
      "metadata": {
        "colab": {
          "base_uri": "https://localhost:8080/",
          "height": 368
        },
        "id": "MUOqJX-aukla",
        "outputId": "aaa3a9b1-f929-440c-d967-d2cd07ab415d"
      },
      "source": [
        "# Zoom in on the data distribution for cities with high accidents\n",
        "\n",
        "fig, axs = plt.subplots(1, 1,figsize =(8, 5), tight_layout = True)\n",
        "\n",
        "high_accident_cities.hist(bins = 50)\n",
        "\n",
        "plt.xlabel(\"X-axis\")\n",
        "plt.ylabel(\"y-axis\")\n",
        "plt.title('Accidents Count By Cities > 1000')\n",
        "\n",
        "plt.show()"
      ],
      "execution_count": 27,
      "outputs": [
        {
          "output_type": "display_data",
          "data": {
            "image/png": "[encoded data removed]",
            "text/plain": [
              "<Figure size 576x360 with 1 Axes>"
            ]
          },
          "metadata": {
            "needs_background": "light"
          }
        }
      ]
    },
    {
      "cell_type": "code",
      "metadata": {
        "colab": {
          "base_uri": "https://localhost:8080/"
        },
        "id": "idG9MKlswymc",
        "outputId": "ad954401-2ffe-45ed-b4b0-056fb68d70de"
      },
      "source": [
        "# Accidents by order of severity (1 being lowest, and 4 being highest)\n",
        "\n",
        "us_accidents.groupby('Severity').count()['ID']"
      ],
      "execution_count": 28,
      "outputs": [
        {
          "output_type": "execute_result",
          "data": {
            "text/plain": [
              "Severity\n",
              "1      28178\n",
              "2    1212382\n",
              "3     161052\n",
              "4     114452\n",
              "Name: ID, dtype: int64"
            ]
          },
          "metadata": {},
          "execution_count": 28
        }
      ]
    },
    {
      "cell_type": "code",
      "metadata": {
        "colab": {
          "base_uri": "https://localhost:8080/"
        },
        "id": "4uudqRon5s2V",
        "outputId": "0dfb4e47-c96b-4c83-c55f-cf7d3437875e"
      },
      "source": [
        "# Accidents severity\n",
        "\n",
        "accidents_severity = us_accidents.groupby('Severity').count()['ID']\n",
        "accidents_severity"
      ],
      "execution_count": 87,
      "outputs": [
        {
          "output_type": "execute_result",
          "data": {
            "text/plain": [
              "Severity\n",
              "1      28178\n",
              "2    1212382\n",
              "3     161052\n",
              "4     114452\n",
              "Name: ID, dtype: int64"
            ]
          },
          "metadata": {},
          "execution_count": 87
        }
      ]
    },
    {
      "cell_type": "code",
      "source": [
        "# Let's visualize that\n",
        "\n",
        "fig, ax = plt.subplots(figsize=(8, 6), subplot_kw=dict(aspect=\"equal\"))\n",
        "label = [1,2,3,4]\n",
        "plt.pie(accidents_severity, labels=label,\n",
        "        autopct='%1.1f%%', pctdistance=0.85)\n",
        "circle = plt.Circle( (0,0), 0.7, color='white')\n",
        "p=plt.gcf()\n",
        "p.gca().add_artist(circle)\n",
        "ax.set_title(\"Accident by Severity\",fontdict={'fontsize': 16})\n",
        "plt.tight_layout()\n",
        "plt.show()"
      ],
      "metadata": {
        "colab": {
          "base_uri": "https://localhost:8080/",
          "height": 441
        },
        "id": "5CachmqMeoQz",
        "outputId": "6ba544e1-0c45-4c71-f42a-25a1a3fa8880"
      },
      "execution_count": 88,
      "outputs": [
        {
          "output_type": "display_data",
          "data": {
            "image/png": "[encoded data removed]",
            "text/plain": [
              "<Figure size 576x432 with 1 Axes>"
            ]
          },
          "metadata": {}
        }
      ]
    },
    {
      "cell_type": "markdown",
      "source": [
        "7.5% of the accidents recorded were found to be very severe."
      ],
      "metadata": {
        "id": "yMzv62TofTdU"
      }
    },
    {
      "cell_type": "code",
      "metadata": {
        "colab": {
          "base_uri": "https://localhost:8080/"
        },
        "id": "xPNqoHkF6HzY",
        "outputId": "c300d51b-19ea-490e-aa98-3f434923fc04"
      },
      "source": [
        "# Let's work with the dates \n",
        "# (we find it's in wrong format, let's change that)\n",
        "\n",
        "us_accidents['Start_Time'].dtypes"
      ],
      "execution_count": 30,
      "outputs": [
        {
          "output_type": "execute_result",
          "data": {
            "text/plain": [
              "dtype('O')"
            ]
          },
          "metadata": {},
          "execution_count": 30
        }
      ]
    },
    {
      "cell_type": "code",
      "metadata": {
        "colab": {
          "base_uri": "https://localhost:8080/"
        },
        "id": "YwpFaHxK9ykU",
        "outputId": "204db927-40a7-4fc7-b3b8-e5a23fa5d539"
      },
      "source": [
        "us_accidents['End_Time'].dtypes"
      ],
      "execution_count": 31,
      "outputs": [
        {
          "output_type": "execute_result",
          "data": {
            "text/plain": [
              "dtype('O')"
            ]
          },
          "metadata": {},
          "execution_count": 31
        }
      ]
    },
    {
      "cell_type": "code",
      "metadata": {
        "colab": {
          "base_uri": "https://localhost:8080/"
        },
        "id": "NZ7aWJISBtNy",
        "outputId": "80f3ffdf-624c-4b34-f0d7-7a3a5a2023c6"
      },
      "source": [
        "us_accidents = us_accidents.astype({'Start_Time': 'datetime64[ns]', 'End_Time': 'datetime64[ns]'})\n",
        "us_accidents['Start_Time'].dtypes\n"
      ],
      "execution_count": 32,
      "outputs": [
        {
          "output_type": "execute_result",
          "data": {
            "text/plain": [
              "dtype('<M8[ns]')"
            ]
          },
          "metadata": {},
          "execution_count": 32
        }
      ]
    },
    {
      "cell_type": "code",
      "metadata": {
        "colab": {
          "base_uri": "https://localhost:8080/"
        },
        "id": "X27DpoYdDWAC",
        "outputId": "f24f2d37-f6f1-4e67-d5ed-6e9da63e8abd"
      },
      "source": [
        "us_accidents['Start_Time'][0]"
      ],
      "execution_count": 33,
      "outputs": [
        {
          "output_type": "execute_result",
          "data": {
            "text/plain": [
              "Timestamp('2016-02-08 00:37:08')"
            ]
          },
          "metadata": {},
          "execution_count": 33
        }
      ]
    },
    {
      "cell_type": "code",
      "metadata": {
        "colab": {
          "base_uri": "https://localhost:8080/"
        },
        "id": "37NM3UYLEY0w",
        "outputId": "d00dadc2-8f12-4f0c-a3c1-fc9717e8c07c"
      },
      "source": [
        "us_accidents['End_Time'][0]"
      ],
      "execution_count": 34,
      "outputs": [
        {
          "output_type": "execute_result",
          "data": {
            "text/plain": [
              "Timestamp('2016-02-08 06:37:08')"
            ]
          },
          "metadata": {},
          "execution_count": 34
        }
      ]
    },
    {
      "cell_type": "code",
      "metadata": {
        "colab": {
          "base_uri": "https://localhost:8080/",
          "height": 350
        },
        "id": "-Pj_675dNlBB",
        "outputId": "33f2a96a-8fad-4420-ba32-a39447b0400d"
      },
      "source": [
        "# Plot the distribution of occurence by time of the day.\n",
        "# We can see the time of the day mof accidents happen, 4pm-6pm\n",
        "\n",
        "fig, ax = plt.subplots(figsize=(8,5))\n",
        "sns.histplot(us_accidents['Start_Time'].dt.hour, bins = 24)\n",
        "\n",
        "plt.xlabel(\"Start Time\")\n",
        "plt.ylabel(\"Number of Occurence\")\n",
        "plt.title('Accidents Count By Time of Day')\n",
        "\n",
        "plt.show()"
      ],
      "execution_count": 35,
      "outputs": [
        {
          "output_type": "display_data",
          "data": {
            "image/png": "[encoded data removed]",
            "text/plain": [
              "<Figure size 576x360 with 1 Axes>"
            ]
          },
          "metadata": {
            "needs_background": "light"
          }
        }
      ]
    },
    {
      "cell_type": "markdown",
      "source": [
        "More accidents happened between 7am-8am, and 4pm-5pm. These are the times people usually go to and return from work, could this be the cause? We'll investigate further by looking at occurences by day of the week."
      ],
      "metadata": {
        "id": "U8dt1A_yWhXk"
      }
    },
    {
      "cell_type": "code",
      "metadata": {
        "colab": {
          "base_uri": "https://localhost:8080/",
          "height": 350
        },
        "id": "XRy7-VW-N-d_",
        "outputId": "c76b2269-971a-4c82-b61b-ad0b00db91c8"
      },
      "source": [
        "# Let's plot by day of the week \n",
        "\n",
        "fig, ax = plt.subplots(figsize=(8,5))\n",
        "sns.histplot(us_accidents['Start_Time'].dt.dayofweek, bins = 7)\n",
        "\n",
        "plt.xlabel(\"Day of Week\")\n",
        "plt.ylabel(\"Occurence\")\n",
        "plt.title('Accidents Occurence by Day of the Week')\n",
        "\n",
        "plt.show()"
      ],
      "execution_count": 36,
      "outputs": [
        {
          "output_type": "display_data",
          "data": {
            "image/png": "[encoded data removed]",
            "text/plain": [
              "<Figure size 576x360 with 1 Axes>"
            ]
          },
          "metadata": {
            "needs_background": "light"
          }
        }
      ]
    },
    {
      "cell_type": "markdown",
      "metadata": {
        "id": "pisWjqTxfdW-"
      },
      "source": [
        "Accidents occurence are high on weekdays & low on weekends, both evenly distributed. Interesting. This could be down to having more people on the road on week days due to work. We will drill down by weekend days."
      ]
    },
    {
      "cell_type": "code",
      "metadata": {
        "id": "oOMgcDmbe92I"
      },
      "source": [
        "# Create a variable of the weekend days (Saturday & Sunday) for the next analysis\n",
        "\n",
        "saturday = us_accidents[us_accidents['Start_Time'].dt.dayofweek == 5]\n",
        "sunday = us_accidents[us_accidents['Start_Time'].dt.dayofweek == 6]"
      ],
      "execution_count": 37,
      "outputs": []
    },
    {
      "cell_type": "code",
      "metadata": {
        "colab": {
          "base_uri": "https://localhost:8080/",
          "height": 350
        },
        "id": "rAkx8MSMgu0F",
        "outputId": "982d3598-203a-4acf-b506-df886cf8d975"
      },
      "source": [
        "# The accident occurence pattern on Saturday is quite interesting. I have an idea why it is like this.\n",
        "\n",
        "fig, ax = plt.subplots(figsize=(8,5))\n",
        "sns.histplot(saturday['Start_Time'].dt.hour, bins = 24)\n",
        "\n",
        "plt.xlabel(\"Hour of the Day\")\n",
        "plt.ylabel(\"Accident Occurence\")\n",
        "plt.title('Accidents Occurence on Saturdays')\n",
        "\n",
        "plt.show()"
      ],
      "execution_count": 38,
      "outputs": [
        {
          "output_type": "display_data",
          "data": {
            "image/png": "[encoded data removed]",
            "text/plain": [
              "<Figure size 576x360 with 1 Axes>"
            ]
          },
          "metadata": {
            "needs_background": "light"
          }
        }
      ]
    },
    {
      "cell_type": "code",
      "metadata": {
        "colab": {
          "base_uri": "https://localhost:8080/",
          "height": 350
        },
        "id": "9oDHwCMdhpYy",
        "outputId": "ae1562e4-4c18-4bbd-8899-a0e03e4269cb"
      },
      "source": [
        "# this is even more interesting.\n",
        "\n",
        "fig, ax = plt.subplots(figsize=(8,5))\n",
        "sns.histplot(sunday['Start_Time'].dt.hour, bins = 24)\n",
        "\n",
        "plt.xlabel(\"Hour of the Day\")\n",
        "plt.ylabel(\"Accident Occurence\")\n",
        "plt.title('Accidents Occurence on Sundays')\n",
        "\n",
        "plt.show()"
      ],
      "execution_count": 39,
      "outputs": [
        {
          "output_type": "display_data",
          "data": {
            "image/png": "[encoded data removed]",
            "text/plain": [
              "<Figure size 576x360 with 1 Axes>"
            ]
          },
          "metadata": {
            "needs_background": "light"
          }
        }
      ]
    },
    {
      "cell_type": "code",
      "metadata": {
        "id": "oBPyYU-jicE-"
      },
      "source": [
        "# Let's pick a random day of the week and check the distribution\n",
        "\n",
        "import random\n"
      ],
      "execution_count": 40,
      "outputs": []
    },
    {
      "cell_type": "code",
      "metadata": {
        "colab": {
          "base_uri": "https://localhost:8080/"
        },
        "id": "X63LR6aNpXco",
        "outputId": "458826d8-471c-4540-e0df-a3ae7bad9033"
      },
      "source": [
        "# Let's get a random week day, and it gives us 1\n",
        "weekdays_in_numbers = [0,1,2,3,4]\n",
        "random_num = random.choice(weekdays_in_numbers)\n",
        "random_num"
      ],
      "execution_count": 41,
      "outputs": [
        {
          "output_type": "execute_result",
          "data": {
            "text/plain": [
              "3"
            ]
          },
          "metadata": {},
          "execution_count": 41
        }
      ]
    },
    {
      "cell_type": "code",
      "metadata": {
        "id": "JR1Hkxu4paj8"
      },
      "source": [
        "# Let's plot day 1, which is Tuesday (Note that python indexing starts at 0)\n",
        "\n",
        "tuesday = us_accidents[us_accidents['Start_Time'].dt.dayofweek == 1]\n"
      ],
      "execution_count": 42,
      "outputs": []
    },
    {
      "cell_type": "code",
      "metadata": {
        "colab": {
          "base_uri": "https://localhost:8080/",
          "height": 350
        },
        "id": "vllJNLWSqxD_",
        "outputId": "5ab798d6-8e8a-4236-f815-ba8315351e8c"
      },
      "source": [
        "# Graph is similar to the general (all week days) accidents occurence graph\n",
        "fig, ax = plt.subplots(figsize=(8,5))\n",
        "sns.histplot(tuesday['Start_Time'].dt.hour, bins = 24)\n",
        "\n",
        "plt.xlabel(\"Hour of the Day\")\n",
        "plt.ylabel(\"Accident Occurence\")\n",
        "plt.title('Accidents Occurence on Tuesdays')\n",
        "\n",
        "plt.show()"
      ],
      "execution_count": 43,
      "outputs": [
        {
          "output_type": "display_data",
          "data": {
            "image/png": "[encoded data removed]",
            "text/plain": [
              "<Figure size 576x360 with 1 Axes>"
            ]
          },
          "metadata": {
            "needs_background": "light"
          }
        }
      ]
    },
    {
      "cell_type": "code",
      "metadata": {
        "colab": {
          "base_uri": "https://localhost:8080/",
          "height": 350
        },
        "id": "03wxc1C9rEwo",
        "outputId": "3ff56e25-ed69-4f8d-ef26-2f8c01f56922"
      },
      "source": [
        "# Moving on, we can plot by month of the year\n",
        "\n",
        "fig, ax = plt.subplots(figsize=(8,5))\n",
        "sns.histplot(us_accidents['Start_Time'].dt.month, bins = 12)\n",
        "\n",
        "plt.xlabel(\"Month of Year\")\n",
        "plt.ylabel(\"Accidents Occurence\")\n",
        "plt.title('Accidents Occurence by Month of the Year')\n",
        "\n",
        "plt.show()"
      ],
      "execution_count": 44,
      "outputs": [
        {
          "output_type": "display_data",
          "data": {
            "image/png": "[encoded data removed]",
            "text/plain": [
              "<Figure size 576x360 with 1 Axes>"
            ]
          },
          "metadata": {
            "needs_background": "light"
          }
        }
      ]
    },
    {
      "cell_type": "markdown",
      "metadata": {
        "id": "DYRph-9VtDqx"
      },
      "source": [
        "Accidents occurence tend to drop during summer months & pick up by Winter. Interesting trend. Also note that data collection started February 2016. So, not data in January 2016 might have affected the spread somewhat."
      ]
    },
    {
      "cell_type": "code",
      "metadata": {
        "colab": {
          "base_uri": "https://localhost:8080/",
          "height": 350
        },
        "id": "kquqjfBFsmNn",
        "outputId": "c6a9816c-798a-46cb-f139-a551dba10287"
      },
      "source": [
        "# Let's drill down by individual years, then check the month trend\n",
        "\n",
        "fig, ax = plt.subplots(figsize=(8,5))\n",
        "dt_2016 = us_accidents[us_accidents['Start_Time'].dt.year==2016]\n",
        "sns.histplot(dt_2016['Start_Time'].dt.month, bins = 12)\n",
        "\n",
        "plt.xlabel(\"Year 2016\")\n",
        "plt.ylabel(\"Accidents Occurence\")\n",
        "plt.title('Accidents Occurence by Month in 2016')\n",
        "\n",
        "plt.show()"
      ],
      "execution_count": 45,
      "outputs": [
        {
          "output_type": "display_data",
          "data": {
            "image/png": "[encoded data removed]",
            "text/plain": [
              "<Figure size 576x360 with 1 Axes>"
            ]
          },
          "metadata": {
            "needs_background": "light"
          }
        }
      ]
    },
    {
      "cell_type": "code",
      "metadata": {
        "colab": {
          "base_uri": "https://localhost:8080/",
          "height": 350
        },
        "id": "CEHKfORT0FEX",
        "outputId": "ec8feb1d-1736-4737-c017-c2d74707f306"
      },
      "source": [
        "# Let's drill down by individual years, then check the month trend\n",
        "\n",
        "fig, ax = plt.subplots(figsize=(8,5))\n",
        "dt_2017 = us_accidents[us_accidents['Start_Time'].dt.year==2017]\n",
        "sns.histplot(dt_2017['Start_Time'].dt.month, bins = 12)\n",
        "\n",
        "plt.xlabel(\"Year 2017\")\n",
        "plt.ylabel(\"Accidents Occurence\")\n",
        "plt.title('Accidents Occurence by Month in 2017')\n",
        "\n",
        "plt.show()"
      ],
      "execution_count": 46,
      "outputs": [
        {
          "output_type": "display_data",
          "data": {
            "image/png": "[encoded data removed]",
            "text/plain": [
              "<Figure size 576x360 with 1 Axes>"
            ]
          },
          "metadata": {
            "needs_background": "light"
          }
        }
      ]
    },
    {
      "cell_type": "code",
      "metadata": {
        "colab": {
          "base_uri": "https://localhost:8080/",
          "height": 350
        },
        "id": "Tu_Rjf9e0Gn3",
        "outputId": "edf60de2-7898-4ec8-abae-8702059821df"
      },
      "source": [
        "# Let's drill down by individual years, then check the month trend\n",
        "\n",
        "fig, ax = plt.subplots(figsize=(8,5))\n",
        "dt_2018 = us_accidents[us_accidents['Start_Time'].dt.year==2018]\n",
        "sns.histplot(dt_2018['Start_Time'].dt.month, bins = 12)\n",
        "\n",
        "plt.xlabel(\"Year 2018\")\n",
        "plt.ylabel(\"Accidents Occurence\")\n",
        "plt.title('Accidents Occurence by Month in 2018')\n",
        "\n",
        "plt.show()"
      ],
      "execution_count": 47,
      "outputs": [
        {
          "output_type": "display_data",
          "data": {
            "image/png": "[encoded data removed]",
            "text/plain": [
              "<Figure size 576x360 with 1 Axes>"
            ]
          },
          "metadata": {
            "needs_background": "light"
          }
        }
      ]
    },
    {
      "cell_type": "code",
      "metadata": {
        "colab": {
          "base_uri": "https://localhost:8080/",
          "height": 350
        },
        "id": "08TY43540Hs3",
        "outputId": "5bdf5a10-0c3d-4416-bb39-9478f0290a69"
      },
      "source": [
        "# Let's drill down by individual years, then check the month trend\n",
        "\n",
        "fig, ax = plt.subplots(figsize=(8,5))\n",
        "dt_2019 = us_accidents[us_accidents['Start_Time'].dt.year==2019]\n",
        "sns.histplot(dt_2019['Start_Time'].dt.month, bins = 12)\n",
        "\n",
        "plt.xlabel(\"Year 2019\")\n",
        "plt.ylabel(\"Accidents Occurence\")\n",
        "plt.title('Accidents Occurence by Month in 2019')\n",
        "\n",
        "plt.show()"
      ],
      "execution_count": 48,
      "outputs": [
        {
          "output_type": "display_data",
          "data": {
            "image/png": "[encoded data removed]",
            "text/plain": [
              "<Figure size 576x360 with 1 Axes>"
            ]
          },
          "metadata": {
            "needs_background": "light"
          }
        }
      ]
    },
    {
      "cell_type": "code",
      "metadata": {
        "colab": {
          "base_uri": "https://localhost:8080/",
          "height": 350
        },
        "id": "fwCwNKlV0IS_",
        "outputId": "4055ad77-7eab-4e2b-aab1-226c4adeb2e2"
      },
      "source": [
        "# Let's drill down by individual years, then check the month trend\n",
        "\n",
        "fig, ax = plt.subplots(figsize=(8,5))\n",
        "dt_2020 = us_accidents[us_accidents['Start_Time'].dt.year==2020]\n",
        "sns.histplot(dt_2020['Start_Time'].dt.month, bins = 12)\n",
        "\n",
        "plt.xlabel(\"Year 2020\")\n",
        "plt.ylabel(\"Accidents Occurence\")\n",
        "plt.title('Accidents Occurence by Month in 2020')\n",
        "\n",
        "plt.show()"
      ],
      "execution_count": 49,
      "outputs": [
        {
          "output_type": "display_data",
          "data": {
            "image/png": "[encoded data removed]",
            "text/plain": [
              "<Figure size 576x360 with 1 Axes>"
            ]
          },
          "metadata": {
            "needs_background": "light"
          }
        }
      ]
    },
    {
      "cell_type": "markdown",
      "metadata": {
        "id": "6XvDegmk-bna"
      },
      "source": [
        "An observation - Data for 2017 & 2018 seems more balanced, while there were missing data in 2016 and 2020 (2016 start of data collection so system might not have been fully in place).\n",
        "\n",
        "For 2020 I can't offer an explanation for missing/inadequate data.\n",
        "\n",
        "I would have expected 2019 graph to look similar to 2017 & 2018.For some reasons, it's not. I would appreciate someone more experienced to explain this or drill down further."
      ]
    },
    {
      "cell_type": "code",
      "metadata": {
        "id": "POYR7zcnwJEe"
      },
      "source": [
        "# For the above, the data sources should be probed further."
      ],
      "execution_count": 50,
      "outputs": []
    },
    {
      "cell_type": "code",
      "source": [
        "# Moving on, what side of the road are accidents happening?\n",
        "\n",
        "side_of_road"
      ],
      "metadata": {
        "colab": {
          "base_uri": "https://localhost:8080/"
        },
        "id": "EPu0kthXPHom",
        "outputId": "8bd57a57-3b78-4e44-ea89-7dc47cc52e7f"
      },
      "execution_count": 74,
      "outputs": [
        {
          "output_type": "execute_result",
          "data": {
            "text/plain": [
              "Side\n",
              "L     221502\n",
              "R    1294562\n",
              "Name: ID, dtype: int64"
            ]
          },
          "metadata": {},
          "execution_count": 74
        }
      ]
    },
    {
      "cell_type": "code",
      "source": [
        "# Let's visualize that\n",
        "\n",
        "fig, ax = plt.subplots(figsize=(8, 6), subplot_kw=dict(aspect=\"equal\"))\n",
        "label = ['Left', 'Right']\n",
        "plt.pie(side_of_road, labels=label,\n",
        "        autopct='%1.1f%%', pctdistance=0.85)\n",
        "circle = plt.Circle( (0,0), 0.7, color='white')\n",
        "p=plt.gcf()\n",
        "p.gca().add_artist(circle)\n",
        "ax.set_title(\"Accident Occurence by Side of Road\",fontdict={'fontsize': 16})\n",
        "plt.tight_layout()\n",
        "plt.show()"
      ],
      "metadata": {
        "colab": {
          "base_uri": "https://localhost:8080/",
          "height": 441
        },
        "id": "lSBXsiBTCU8T",
        "outputId": "7c8a2276-6415-4f07-99c9-d2627d3ab4a9"
      },
      "execution_count": 78,
      "outputs": [
        {
          "output_type": "display_data",
          "data": {
            "image/png": "[encoded data removed]",
            "text/plain": [
              "<Figure size 576x432 with 1 Axes>"
            ]
          },
          "metadata": {}
        }
      ]
    },
    {
      "cell_type": "markdown",
      "source": [
        "More accidents are happening on the right side of the roads!"
      ],
      "metadata": {
        "id": "YJyIZBrkXYVa"
      }
    },
    {
      "cell_type": "code",
      "source": [
        "# What are the weather conditions at the time of accicent occurence\n",
        "\n",
        "weather_conditions = us_accidents.groupby(['Weather_Condition']).count()['ID']\n",
        "weather_conditions"
      ],
      "metadata": {
        "colab": {
          "base_uri": "https://localhost:8080/"
        },
        "id": "eVX0-gEmCVTU",
        "outputId": "1dc77f29-9c13-44d1-92d7-cf18c65c27a1"
      },
      "execution_count": 79,
      "outputs": [
        {
          "output_type": "execute_result",
          "data": {
            "text/plain": [
              "Weather_Condition\n",
              "Blowing Dust                78\n",
              "Blowing Dust / Windy        79\n",
              "Blowing Snow               144\n",
              "Blowing Snow / Windy        63\n",
              "Clear                   180223\n",
              "                         ...  \n",
              "Tornado                      2\n",
              "Volcanic Ash                 4\n",
              "Widespread Dust             43\n",
              "Wintry Mix                1251\n",
              "Wintry Mix / Windy          30\n",
              "Name: ID, Length: 116, dtype: int64"
            ]
          },
          "metadata": {},
          "execution_count": 79
        }
      ]
    },
    {
      "cell_type": "code",
      "source": [
        "# Weather conditions at time of occurence sorted\n",
        "\n",
        "weather_conditions.sort_values(ascending=False)"
      ],
      "metadata": {
        "colab": {
          "base_uri": "https://localhost:8080/"
        },
        "id": "QY36TyDjXecQ",
        "outputId": "41284beb-ea1c-4378-d403-692a0efaafb0"
      },
      "execution_count": 84,
      "outputs": [
        {
          "output_type": "execute_result",
          "data": {
            "text/plain": [
              "Weather_Condition\n",
              "Fair                         465252\n",
              "Mostly Cloudy                193595\n",
              "Clear                        180223\n",
              "Cloudy                       161291\n",
              "Partly Cloudy                133102\n",
              "                              ...  \n",
              "Low Drifting Snow                 1\n",
              "Heavy Blowing Snow                1\n",
              "Sand / Dust Whirls Nearby         1\n",
              "Mist / Windy                      1\n",
              "Heavy Freezing Drizzle            1\n",
              "Name: ID, Length: 116, dtype: int64"
            ]
          },
          "metadata": {},
          "execution_count": 84
        }
      ]
    },
    {
      "cell_type": "code",
      "source": [
        "# Time of accident occurence sorted and filtered to top 20\n",
        "\n",
        "weather_conditions.sort_values(ascending=False)[:20]\n"
      ],
      "metadata": {
        "colab": {
          "base_uri": "https://localhost:8080/"
        },
        "id": "432aKM2HCV7z",
        "outputId": "e583c9b3-d155-4cdb-aa21-59eb03d3d31b"
      },
      "execution_count": 85,
      "outputs": [
        {
          "output_type": "execute_result",
          "data": {
            "text/plain": [
              "Weather_Condition\n",
              "Fair                     465252\n",
              "Mostly Cloudy            193595\n",
              "Clear                    180223\n",
              "Cloudy                   161291\n",
              "Partly Cloudy            133102\n",
              "Overcast                  87853\n",
              "Light Rain                72511\n",
              "Scattered Clouds          47061\n",
              "Light Snow                22113\n",
              "Fog                       19777\n",
              "Haze                      17706\n",
              "Rain                      17389\n",
              "Fair / Windy               6631\n",
              "Heavy Rain                 6119\n",
              "Light Drizzle              4307\n",
              "Mostly Cloudy / Windy      3612\n",
              "Smoke                      3608\n",
              "Cloudy / Windy             3300\n",
              "Snow                       2730\n",
              "Partly Cloudy / Windy      2125\n",
              "Name: ID, dtype: int64"
            ]
          },
          "metadata": {},
          "execution_count": 85
        }
      ]
    },
    {
      "cell_type": "code",
      "source": [
        "# Let's visualize top 20 weather conditions at the time of accident occurence\n",
        "\n",
        "fig, ax = plt.subplots(figsize=(8,5))\n",
        "weather_conditions.sort_values(ascending=False)[:20].plot(kind='bar')\n",
        "ax.set(title = 'Weather Conditions at Time of Accident Occurence',\n",
        "       xlabel = 'Weather',\n",
        "       ylabel = 'Accidents Count')\n",
        "plt.show()"
      ],
      "metadata": {
        "colab": {
          "base_uri": "https://localhost:8080/",
          "height": 450
        },
        "id": "LtYVMuukVzY3",
        "outputId": "89c4bc4c-2d59-4399-c090-6205855aafed"
      },
      "execution_count": 86,
      "outputs": [
        {
          "output_type": "display_data",
          "data": {
            "image/png": "[encoded data removed]",
            "text/plain": [
              "<Figure size 576x360 with 1 Axes>"
            ]
          },
          "metadata": {
            "needs_background": "light"
          }
        }
      ]
    },
    {
      "cell_type": "markdown",
      "source": [
        "# **Findings**\n",
        "\n",
        "Accidents more likely to happen in peak hours (Morning & evening). This could be explained by having more people on the road heading to work or business activities.\n",
        "\n",
        "Accidents happened more frequently on the right side of the road.\n",
        "\n",
        "Week days (work days) recorded more accidents than weekends.\n",
        "\n",
        "Accidents happened less frequently in summer months, than winter months. However, looking at the data, much data was not collected in some summer months - so, this could skew the analysis.\n",
        "\n",
        "A further probe of the data sources is recommended in other to ascertain the irregularities of the histograms for 2016, and 2020. Was enough data captured in these years? Could reveal more insights.\n",
        "\n",
        "Surprisingly, most accidents happened when the weather was 'fair'. Perhaps weather (bad weather) was not a big contributing factor to accidents.\n",
        "\n",
        "Los Angeles was the city with the highest number of accidents but take note that there was no data from New York (the most populated city in the US). So, I would imagine NY would have had the highest?\n",
        "\n"
      ],
      "metadata": {
        "id": "XduypjL-V0MO"
      }
    }
  ]
}